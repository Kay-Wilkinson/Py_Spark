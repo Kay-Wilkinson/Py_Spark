{
 "cells": [
  {
   "cell_type": "code",
   "execution_count": 1,
   "metadata": {},
   "outputs": [],
   "source": [
    "# import necessary libraries\n",
    "import pandas as pd \n",
    "import numpy\n",
    "import matplotlib.pyplot as plt \n",
    "from pyspark.sql import SparkSession\n",
    "\n",
    "# create sparksession\n",
    "spark = SparkSession \\\n",
    "    .builder \\\n",
    "    .appName('Pysparkexample') \\\n",
    "    .config('spark.some.config.option', 'some-value') \\\n",
    "    .getOrCreate()\n",
    "\n",
    "# the .version attribute prints the Spark version - This is useful for checking for any updates that need\n",
    "# to be written to the docker-compose.yml file and for any debugging revolving around version conflicts.\n",
    "print('The Spark version is: {}'.format(spark.version))"
   ]
  },
  {
   "cell_type": "code",
   "execution_count": 3,
   "metadata": {},
   "outputs": [],
   "source": [
    "df = spark.read.csv('BreadBasketBakery.csv', header='true', inferSchema = True)"
   ]
  },
  {
   "cell_type": "code",
   "execution_count": 4,
   "metadata": {},
   "outputs": [
    {
     "name": "stdout",
     "output_type": "stream",
     "text": [
      "Columns are: \n",
      "Date\n",
      "Time\n",
      "Transaction\n",
      "Item\n"
     ]
    }
   ],
   "source": [
    "# Read out columns names\n",
    "columns = df.columns\n",
    "print('Columns are: ')\n",
    "for col in columns:\n",
    "    print(col)"
   ]
  },
  {
   "cell_type": "code",
   "execution_count": 5,
   "metadata": {},
   "outputs": [
    {
     "name": "stdout",
     "output_type": "stream",
     "text": [
      "The total number of columns is: 21293 \n",
      "The total number of rows is: 4\n"
     ]
    }
   ],
   "source": [
    "# To get an idea of the size of the Dataset we are working with, counting the number of columns and rows is a good \n",
    "#place to start. Note, that this is better for much, much larger datasets than this one!\n",
    "print('The total number of columns is:', df.count(), \n",
    "      '\\nThe total number of rows is:', len(df.columns))"
   ]
  },
  {
   "cell_type": "code",
   "execution_count": 6,
   "metadata": {},
   "outputs": [
    {
     "data": {
      "text/plain": [
       "Row(Date=datetime.datetime(2016, 10, 30, 0, 0), Time='09:58:11', Transaction=1, Item='Bread')"
      ]
     },
     "execution_count": 6,
     "metadata": {},
     "output_type": "execute_result"
    }
   ],
   "source": [
    "# Showing the first line of the DF\n",
    "df.head()"
   ]
  },
  {
   "cell_type": "code",
   "execution_count": 7,
   "metadata": {},
   "outputs": [
    {
     "name": "stdout",
     "output_type": "stream",
     "text": [
      "+-------------------+--------+-----------+-------------+\n",
      "|               Date|    Time|Transaction|         Item|\n",
      "+-------------------+--------+-----------+-------------+\n",
      "|2016-10-30 00:00:00|09:58:11|          1|        Bread|\n",
      "|2016-10-30 00:00:00|10:05:34|          2| Scandinavian|\n",
      "|2016-10-30 00:00:00|10:05:34|          2| Scandinavian|\n",
      "|2016-10-30 00:00:00|10:07:57|          3|Hot chocolate|\n",
      "|2016-10-30 00:00:00|10:07:57|          3|          Jam|\n",
      "|2016-10-30 00:00:00|10:07:57|          3|      Cookies|\n",
      "|2016-10-30 00:00:00|10:08:41|          4|       Muffin|\n",
      "+-------------------+--------+-----------+-------------+\n",
      "only showing top 7 rows\n",
      "\n"
     ]
    }
   ],
   "source": [
    "# Now print out the first 7 rows of the DF\n",
    "df.show(7)"
   ]
  },
  {
   "cell_type": "code",
   "execution_count": 9,
   "metadata": {},
   "outputs": [
    {
     "name": "stdout",
     "output_type": "stream",
     "text": [
      "+-------------------+--------+-----------+-------------+\n",
      "|               Date|    Time|Transaction|         Item|\n",
      "+-------------------+--------+-----------+-------------+\n",
      "|2016-10-30 00:00:00|09:58:11|          1|        Bread|\n",
      "|2016-10-30 00:00:00|10:05:34|          2| Scandinavian|\n",
      "|2016-10-30 00:00:00|10:05:34|          2| Scandinavian|\n",
      "|2016-10-30 00:00:00|10:07:57|          3|Hot chocolate|\n",
      "|2016-10-30 00:00:00|10:07:57|          3|          Jam|\n",
      "|2016-10-30 00:00:00|10:07:57|          3|      Cookies|\n",
      "|2016-10-30 00:00:00|10:08:41|          4|       Muffin|\n",
      "|2016-10-30 00:00:00|10:13:03|          5|       Coffee|\n",
      "|2016-10-30 00:00:00|10:13:03|          5|       Pastry|\n",
      "|2016-10-30 00:00:00|10:13:03|          5|        Bread|\n",
      "|2016-10-30 00:00:00|10:16:55|          6|    Medialuna|\n",
      "|2016-10-30 00:00:00|10:16:55|          6|       Pastry|\n",
      "|2016-10-30 00:00:00|10:16:55|          6|       Muffin|\n",
      "|2016-10-30 00:00:00|10:19:12|          7|    Medialuna|\n",
      "|2016-10-30 00:00:00|10:19:12|          7|       Pastry|\n",
      "|2016-10-30 00:00:00|10:19:12|          7|       Coffee|\n",
      "|2016-10-30 00:00:00|10:19:12|          7|          Tea|\n",
      "|2016-10-30 00:00:00|10:20:51|          8|       Pastry|\n",
      "|2016-10-30 00:00:00|10:20:51|          8|        Bread|\n",
      "|2016-10-30 00:00:00|10:21:59|          9|        Bread|\n",
      "+-------------------+--------+-----------+-------------+\n",
      "only showing top 20 rows\n",
      "\n"
     ]
    }
   ],
   "source": [
    "# Creating a temp SQL table here\n",
    "df.createOrReplaceTempView('BreadBasket')\n",
    "spark.sql(\n",
    "'''\n",
    "SELECT `Date` as Date, \n",
    "Time, \n",
    "Transaction, \n",
    "Item \n",
    "FROM BreadBasket\n",
    "LIMIT 100\n",
    "'''\n",
    ").show()"
   ]
  },
  {
   "cell_type": "code",
   "execution_count": 10,
   "metadata": {},
   "outputs": [
    {
     "name": "stdout",
     "output_type": "stream",
     "text": [
      "+-------------------+--------+-----------+------+\n",
      "|               Date|    Time|Transaction|  Item|\n",
      "+-------------------+--------+-----------+------+\n",
      "|2016-10-30 00:00:00|10:13:03|          5|Coffee|\n",
      "|2016-10-30 00:00:00|10:19:12|          7|Coffee|\n",
      "|2016-10-30 00:00:00|10:30:14|         12|Coffee|\n",
      "|2016-10-30 00:00:00|10:31:24|         13|Coffee|\n",
      "|2016-10-30 00:00:00|10:37:08|         16|Coffee|\n",
      "|2016-10-30 00:00:00|10:49:29|         21|Coffee|\n",
      "|2016-10-30 00:00:00|10:49:29|         21|Coffee|\n",
      "|2016-10-30 00:00:00|11:03:24|         28|Coffee|\n",
      "|2016-10-30 00:00:00|11:22:49|         33|Coffee|\n",
      "|2016-10-30 00:00:00|11:25:45|         34|Coffee|\n",
      "|2016-10-30 00:00:00|11:37:10|         37|Coffee|\n",
      "|2016-10-30 00:00:00|11:55:51|         40|Coffee|\n",
      "|2016-10-30 00:00:00|12:05:47|         44|Coffee|\n",
      "|2016-10-30 00:00:00|12:08:36|         45|Coffee|\n",
      "|2016-10-30 00:00:00|12:09:04|         46|Coffee|\n",
      "|2016-10-30 00:00:00|12:17:02|         48|Coffee|\n",
      "|2016-10-30 00:00:00|12:23:01|         49|Coffee|\n",
      "|2016-10-30 00:00:00|12:23:01|         49|Coffee|\n",
      "|2016-10-30 00:00:00|12:38:06|         55|Coffee|\n",
      "|2016-10-30 00:00:00|12:39:27|         56|Coffee|\n",
      "+-------------------+--------+-----------+------+\n",
      "only showing top 20 rows\n",
      "\n"
     ]
    }
   ],
   "source": [
    "spark.sql(\n",
    "'''\n",
    "SELECT `Date` as Date, \n",
    "Time, \n",
    "Transaction, \n",
    "Item \n",
    "FROM BreadBasket \n",
    "WHERE Item = 'Coffee'\n",
    "LIMIT 100\n",
    "\n",
    "'''\n",
    ").show()"
   ]
  },
  {
   "cell_type": "code",
   "execution_count": 12,
   "metadata": {},
   "outputs": [
    {
     "data": {
      "image/png": "[encoded data removed]",
      "text/plain": [
       "<Figure size 720x432 with 1 Axes>"
      ]
     },
     "metadata": {
      "needs_background": "light"
     },
     "output_type": "display_data"
    }
   ],
   "source": [
    "# PySpark will support most JS visualisation libraries, so we can use them for our plots.\n",
    "# (Spark does not plot dataframes, so we need to pass post-computed DF's through to Pandas.)\n",
    "plot_df = spark.sql(\n",
    "'''\n",
    "SELECT Item, \n",
    "COUNT(Transaction) as Total \n",
    "FROM BreadBasket \n",
    "GROUP BY Item\n",
    "LIMIT 20\n",
    "'''\n",
    ").toPandas()\n",
    "\n",
    "fig,ax = plt.subplots(1,1,figsize=(10,6))\n",
    "plot_df.plot(x = 'Item', y = 'Total', kind = 'barh', color = 'LightGreen', ax = ax, legend = False)\n",
    "ax.set_xlabel('Item', size = 16)\n",
    "ax.set_ylabel('Total', size = 16)\n",
    "plt.grid()\n",
    "plt.tight_layout()\n",
    "plt.savefig('BreadBasket_barplot.png')\n",
    "plt.show()"
   ]
  },
  {
   "cell_type": "code",
   "execution_count": 24,
   "metadata": {},
   "outputs": [
    {
     "data": {
      "image/png": "[encoded data removed]",
      "text/plain": [
       "<Figure size 720x432 with 1 Axes>"
      ]
     },
     "metadata": {
      "needs_background": "light"
     },
     "output_type": "display_data"
    }
   ],
   "source": [
    "import numpy as np\n",
    "import seaborn as sns\n",
    "plot_df2 = spark.sql(\n",
    "'''\n",
    "SELECT\n",
    "Item, \n",
    "COUNT(Transaction) as Total \n",
    "FROM BreadBasket \n",
    "GROUP BY Item\n",
    "'''\n",
    ").toPandas()\n",
    "plt.figure(figsize = (10,6))\n",
    "sns.distplot(np.log(plot_df2['Total']))\n",
    "plt.title('Histogram of BreadBasket Bakery Transaction Totals for all Items in DataSet', size = 16)\n",
    "plt.ylabel('Density', size = 16)\n",
    "plt.xlabel('Log Total', size = 16)\n",
    "plt.grid()\n",
    "plt.savefig('bread_basket_distplot.png')\n",
    "plt.show()"
   ]
  },
  {
   "cell_type": "code",
   "execution_count": 15,
   "metadata": {},
   "outputs": [
    {
     "name": "stdout",
     "output_type": "stream",
     "text": [
      "+-------------------+--------+-----------+-----+\n",
      "|               Date|    Time|Transaction| Item|\n",
      "+-------------------+--------+-----------+-----+\n",
      "|2016-10-30 00:00:00|09:58:11|          1|Bread|\n",
      "+-------------------+--------+-----------+-----+\n",
      "\n"
     ]
    }
   ],
   "source": [
    "spark.sql(\n",
    "'''\n",
    "SELECT * FROM BreadBasket LIMIT 1  \n",
    "'''\n",
    ").show()"
   ]
  },
  {
   "cell_type": "code",
   "execution_count": null,
   "metadata": {},
   "outputs": [],
   "source": []
  }
 ],
 "metadata": {
  "kernelspec": {
   "display_name": "Python 3",
   "language": "python",
   "name": "python3"
  },
  "language_info": {
   "codemirror_mode": {
    "name": "ipython",
    "version": 3
   },
   "file_extension": ".py",
   "mimetype": "text/x-python",
   "name": "python",
   "nbconvert_exporter": "python",
   "pygments_lexer": "ipython3",
   "version": "3.7.3"
  }
 },
 "nbformat": 4,
 "nbformat_minor": 2
}
